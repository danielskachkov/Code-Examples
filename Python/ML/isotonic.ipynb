{
 "cells": [
  {
   "cell_type": "markdown",
   "metadata": {},
   "source": [
    "# Изотоническая регрессия  \n",
    "Импортируем библиотеки"
   ]
  },
  {
   "cell_type": "code",
   "execution_count": 1,
   "metadata": {},
   "outputs": [],
   "source": [
    "import pandas as pd\n",
    "import numpy as np\n",
    "from matplotlib import pylab as plt\n",
    "from scipy.optimize import minimize"
   ]
  },
  {
   "cell_type": "markdown",
   "metadata": {},
   "source": [
    "Загружаем данные."
   ]
  },
  {
   "cell_type": "code",
   "execution_count": 2,
   "metadata": {
    "scrolled": true
   },
   "outputs": [
    {
     "data": {
      "text/html": [
       "<div>\n",
       "<style scoped>\n",
       "    .dataframe tbody tr th:only-of-type {\n",
       "        vertical-align: middle;\n",
       "    }\n",
       "\n",
       "    .dataframe tbody tr th {\n",
       "        vertical-align: top;\n",
       "    }\n",
       "\n",
       "    .dataframe thead th {\n",
       "        text-align: right;\n",
       "    }\n",
       "</style>\n",
       "<table border=\"1\" class=\"dataframe\">\n",
       "  <thead>\n",
       "    <tr style=\"text-align: right;\">\n",
       "      <th></th>\n",
       "      <th>Features</th>\n",
       "      <th>Fuel Type</th>\n",
       "      <th>Transmission</th>\n",
       "      <th>MPG in City</th>\n",
       "      <th>MPG on Highway</th>\n",
       "      <th>Overall MPG</th>\n",
       "      <th>Cost for 25 Miles</th>\n",
       "      <th>Fuel to Drive 25 Miles</th>\n",
       "      <th>Cost To Fill Tank</th>\n",
       "      <th>Miles per Tank</th>\n",
       "      <th>Tank Volume</th>\n",
       "      <th>Carbon Dioxide Emission per Annum</th>\n",
       "      <th>EPA Size Class</th>\n",
       "      <th>Engine Size in Liters</th>\n",
       "      <th>Cylinders</th>\n",
       "      <th>Passenger Volume</th>\n",
       "      <th>Luggage Volume</th>\n",
       "    </tr>\n",
       "  </thead>\n",
       "  <tbody>\n",
       "    <tr>\n",
       "      <th>0</th>\n",
       "      <td>Toyota Prius</td>\n",
       "      <td>Regular Gasoline</td>\n",
       "      <td>Auto (CVT)</td>\n",
       "      <td>60.0</td>\n",
       "      <td>51.0</td>\n",
       "      <td>55.0</td>\n",
       "      <td>$1.46</td>\n",
       "      <td>0.45 gal</td>\n",
       "      <td>$34.49</td>\n",
       "      <td>589 miles</td>\n",
       "      <td>11.9 gal</td>\n",
       "      <td>3.4 tons</td>\n",
       "      <td>Midsize Car</td>\n",
       "      <td>1.5</td>\n",
       "      <td>4.0</td>\n",
       "      <td>96 ft3 (HB)</td>\n",
       "      <td>16 ft3 (HB)</td>\n",
       "    </tr>\n",
       "    <tr>\n",
       "      <th>1</th>\n",
       "      <td>Toyota Camry Hybrid</td>\n",
       "      <td>Regular Gasoline</td>\n",
       "      <td>Auto (CVT)</td>\n",
       "      <td>40.0</td>\n",
       "      <td>38.0</td>\n",
       "      <td>39.0</td>\n",
       "      <td>$2.06</td>\n",
       "      <td>0.64 gal</td>\n",
       "      <td>$49.85</td>\n",
       "      <td>604 miles</td>\n",
       "      <td>17.2 gal</td>\n",
       "      <td>4.8 tons</td>\n",
       "      <td>Midsize Car</td>\n",
       "      <td>2.4</td>\n",
       "      <td>4.0</td>\n",
       "      <td>101ft3 (4D)</td>\n",
       "      <td>11ft3 (4D)</td>\n",
       "    </tr>\n",
       "    <tr>\n",
       "      <th>2</th>\n",
       "      <td>Saturn Aura Hybrid</td>\n",
       "      <td>Regular Gasoline</td>\n",
       "      <td>Auto (CVT)</td>\n",
       "      <td>28.0</td>\n",
       "      <td>35.0</td>\n",
       "      <td>30.0</td>\n",
       "      <td>$2.68</td>\n",
       "      <td>0.83 gal</td>\n",
       "      <td>$47.53</td>\n",
       "      <td>443 miles</td>\n",
       "      <td>16.4 gal</td>\n",
       "      <td>6.0 tons</td>\n",
       "      <td>Midsize Car</td>\n",
       "      <td>2.4</td>\n",
       "      <td>4.0</td>\n",
       "      <td>NaN</td>\n",
       "      <td>NaN</td>\n",
       "    </tr>\n",
       "    <tr>\n",
       "      <th>3</th>\n",
       "      <td>Nissan Altima</td>\n",
       "      <td>Regular Gasoline</td>\n",
       "      <td>Auto (CVT)</td>\n",
       "      <td>42.0</td>\n",
       "      <td>36.0</td>\n",
       "      <td>39.0</td>\n",
       "      <td>$2.06</td>\n",
       "      <td>0.64 gal</td>\n",
       "      <td>$57.96</td>\n",
       "      <td>702 miles</td>\n",
       "      <td>20.0 gal</td>\n",
       "      <td>4.7 tons</td>\n",
       "      <td>Midsize Car</td>\n",
       "      <td>2.5</td>\n",
       "      <td>4.0</td>\n",
       "      <td>101ft3 (4D)</td>\n",
       "      <td>10 ft3 (4D)</td>\n",
       "    </tr>\n",
       "    <tr>\n",
       "      <th>4</th>\n",
       "      <td>Hybrid Lexus GS 450h</td>\n",
       "      <td>Premium Gasoline</td>\n",
       "      <td>Auto (S6)</td>\n",
       "      <td>25.0</td>\n",
       "      <td>28.0</td>\n",
       "      <td>26.0</td>\n",
       "      <td>$3.27</td>\n",
       "      <td>0.96 gal</td>\n",
       "      <td>$52.63</td>\n",
       "      <td>402 miles</td>\n",
       "      <td>17.2 gal</td>\n",
       "      <td>8.0 tons</td>\n",
       "      <td>Compact Car</td>\n",
       "      <td>3.5</td>\n",
       "      <td>6.0</td>\n",
       "      <td>98 ft3 (4D)</td>\n",
       "      <td>8 ft3 (4D)</td>\n",
       "    </tr>\n",
       "    <tr>\n",
       "      <th>5</th>\n",
       "      <td>Honda Civic Hybrid</td>\n",
       "      <td>Regular Gasoline</td>\n",
       "      <td>Auto (CVT)</td>\n",
       "      <td>49.0</td>\n",
       "      <td>51.0</td>\n",
       "      <td>50.0</td>\n",
       "      <td>$1.61</td>\n",
       "      <td>0.50 gal</td>\n",
       "      <td>$35.65</td>\n",
       "      <td>554 miles</td>\n",
       "      <td>12.3 gal</td>\n",
       "      <td>4.4 tons</td>\n",
       "      <td>Compact Car</td>\n",
       "      <td>1.3</td>\n",
       "      <td>4.0</td>\n",
       "      <td>91ft3 (4D)</td>\n",
       "      <td>10ft3 (4D)</td>\n",
       "    </tr>\n",
       "    <tr>\n",
       "      <th>6</th>\n",
       "      <td>Honda Accord Hybrid</td>\n",
       "      <td>Regular Gasoline</td>\n",
       "      <td>Auto (5 speed)</td>\n",
       "      <td>28.0</td>\n",
       "      <td>35.0</td>\n",
       "      <td>31.0</td>\n",
       "      <td>$2.60</td>\n",
       "      <td>0.81 gal</td>\n",
       "      <td>$49.56</td>\n",
       "      <td>477 miles</td>\n",
       "      <td>17.1 gal</td>\n",
       "      <td>6.8 tons</td>\n",
       "      <td>Midsize Car</td>\n",
       "      <td>3.0</td>\n",
       "      <td>6.0</td>\n",
       "      <td>103ft3 (4D)</td>\n",
       "      <td>11ft3 (4D)</td>\n",
       "    </tr>\n",
       "    <tr>\n",
       "      <th>7</th>\n",
       "      <td>NaN</td>\n",
       "      <td>NaN</td>\n",
       "      <td>NaN</td>\n",
       "      <td>NaN</td>\n",
       "      <td>NaN</td>\n",
       "      <td>NaN</td>\n",
       "      <td>NaN</td>\n",
       "      <td>NaN</td>\n",
       "      <td>NaN</td>\n",
       "      <td>NaN</td>\n",
       "      <td>NaN</td>\n",
       "      <td>NaN</td>\n",
       "      <td>NaN</td>\n",
       "      <td>NaN</td>\n",
       "      <td>NaN</td>\n",
       "      <td>NaN</td>\n",
       "      <td>NaN</td>\n",
       "    </tr>\n",
       "    <tr>\n",
       "      <th>8</th>\n",
       "      <td>the source</td>\n",
       "      <td>NaN</td>\n",
       "      <td>NaN</td>\n",
       "      <td>NaN</td>\n",
       "      <td>NaN</td>\n",
       "      <td>NaN</td>\n",
       "      <td>NaN</td>\n",
       "      <td>NaN</td>\n",
       "      <td>NaN</td>\n",
       "      <td>NaN</td>\n",
       "      <td>NaN</td>\n",
       "      <td>NaN</td>\n",
       "      <td>NaN</td>\n",
       "      <td>NaN</td>\n",
       "      <td>NaN</td>\n",
       "      <td>NaN</td>\n",
       "      <td>NaN</td>\n",
       "    </tr>\n",
       "    <tr>\n",
       "      <th>9</th>\n",
       "      <td>http://www.buzzle.com/articles/hybrid-cars-com...</td>\n",
       "      <td>NaN</td>\n",
       "      <td>NaN</td>\n",
       "      <td>NaN</td>\n",
       "      <td>NaN</td>\n",
       "      <td>NaN</td>\n",
       "      <td>NaN</td>\n",
       "      <td>NaN</td>\n",
       "      <td>NaN</td>\n",
       "      <td>NaN</td>\n",
       "      <td>NaN</td>\n",
       "      <td>NaN</td>\n",
       "      <td>NaN</td>\n",
       "      <td>NaN</td>\n",
       "      <td>NaN</td>\n",
       "      <td>NaN</td>\n",
       "      <td>NaN</td>\n",
       "    </tr>\n",
       "  </tbody>\n",
       "</table>\n",
       "</div>"
      ],
      "text/plain": [
       "                                            Features         Fuel Type  \\\n",
       "0                                       Toyota Prius  Regular Gasoline   \n",
       "1                                Toyota Camry Hybrid  Regular Gasoline   \n",
       "2                                 Saturn Aura Hybrid  Regular Gasoline   \n",
       "3                                      Nissan Altima  Regular Gasoline   \n",
       "4                               Hybrid Lexus GS 450h  Premium Gasoline   \n",
       "5                                 Honda Civic Hybrid  Regular Gasoline   \n",
       "6                                Honda Accord Hybrid  Regular Gasoline   \n",
       "7                                                NaN               NaN   \n",
       "8                                         the source               NaN   \n",
       "9  http://www.buzzle.com/articles/hybrid-cars-com...               NaN   \n",
       "\n",
       "     Transmission  MPG in City  MPG on Highway  Overall MPG Cost for 25 Miles  \\\n",
       "0      Auto (CVT)         60.0            51.0         55.0             $1.46   \n",
       "1      Auto (CVT)         40.0            38.0         39.0             $2.06   \n",
       "2      Auto (CVT)         28.0            35.0         30.0             $2.68   \n",
       "3      Auto (CVT)         42.0            36.0         39.0             $2.06   \n",
       "4       Auto (S6)         25.0            28.0         26.0             $3.27   \n",
       "5      Auto (CVT)         49.0            51.0         50.0             $1.61   \n",
       "6  Auto (5 speed)         28.0            35.0         31.0             $2.60   \n",
       "7             NaN          NaN             NaN          NaN               NaN   \n",
       "8             NaN          NaN             NaN          NaN               NaN   \n",
       "9             NaN          NaN             NaN          NaN               NaN   \n",
       "\n",
       "  Fuel to Drive 25 Miles Cost To Fill Tank Miles per Tank Tank Volume  \\\n",
       "0               0.45 gal            $34.49      589 miles    11.9 gal   \n",
       "1               0.64 gal            $49.85      604 miles    17.2 gal   \n",
       "2               0.83 gal            $47.53      443 miles    16.4 gal   \n",
       "3               0.64 gal            $57.96      702 miles    20.0 gal   \n",
       "4               0.96 gal            $52.63      402 miles    17.2 gal   \n",
       "5               0.50 gal            $35.65      554 miles    12.3 gal   \n",
       "6               0.81 gal            $49.56      477 miles    17.1 gal   \n",
       "7                    NaN               NaN            NaN         NaN   \n",
       "8                    NaN               NaN            NaN         NaN   \n",
       "9                    NaN               NaN            NaN         NaN   \n",
       "\n",
       "  Carbon Dioxide Emission per Annum EPA Size Class  Engine Size in Liters  \\\n",
       "0                          3.4 tons    Midsize Car                    1.5   \n",
       "1                          4.8 tons    Midsize Car                    2.4   \n",
       "2                          6.0 tons    Midsize Car                    2.4   \n",
       "3                          4.7 tons    Midsize Car                    2.5   \n",
       "4                          8.0 tons    Compact Car                    3.5   \n",
       "5                          4.4 tons    Compact Car                    1.3   \n",
       "6                          6.8 tons    Midsize Car                    3.0   \n",
       "7                               NaN            NaN                    NaN   \n",
       "8                               NaN            NaN                    NaN   \n",
       "9                               NaN            NaN                    NaN   \n",
       "\n",
       "   Cylinders Passenger Volume Luggage Volume  \n",
       "0        4.0      96 ft3 (HB)    16 ft3 (HB)  \n",
       "1        4.0      101ft3 (4D)     11ft3 (4D)  \n",
       "2        4.0              NaN            NaN  \n",
       "3        4.0      101ft3 (4D)    10 ft3 (4D)  \n",
       "4        6.0      98 ft3 (4D)     8 ft3 (4D)  \n",
       "5        4.0       91ft3 (4D)     10ft3 (4D)  \n",
       "6        6.0      103ft3 (4D)     11ft3 (4D)  \n",
       "7        NaN              NaN            NaN  \n",
       "8        NaN              NaN            NaN  \n",
       "9        NaN              NaN            NaN  "
      ]
     },
     "execution_count": 2,
     "metadata": {},
     "output_type": "execute_result"
    }
   ],
   "source": [
    "data = pd.read_excel('HybridCarsComparison.xls')\n",
    "data"
   ]
  },
  {
   "cell_type": "markdown",
   "metadata": {},
   "source": [
    "Вижу мусор - выкидываю."
   ]
  },
  {
   "cell_type": "code",
   "execution_count": 3,
   "metadata": {
    "scrolled": true
   },
   "outputs": [
    {
     "data": {
      "text/html": [
       "<div>\n",
       "<style scoped>\n",
       "    .dataframe tbody tr th:only-of-type {\n",
       "        vertical-align: middle;\n",
       "    }\n",
       "\n",
       "    .dataframe tbody tr th {\n",
       "        vertical-align: top;\n",
       "    }\n",
       "\n",
       "    .dataframe thead th {\n",
       "        text-align: right;\n",
       "    }\n",
       "</style>\n",
       "<table border=\"1\" class=\"dataframe\">\n",
       "  <thead>\n",
       "    <tr style=\"text-align: right;\">\n",
       "      <th></th>\n",
       "      <th>Features</th>\n",
       "      <th>Fuel Type</th>\n",
       "      <th>Transmission</th>\n",
       "      <th>MPG in City</th>\n",
       "      <th>MPG on Highway</th>\n",
       "      <th>Overall MPG</th>\n",
       "      <th>Cost for 25 Miles</th>\n",
       "      <th>Fuel to Drive 25 Miles</th>\n",
       "      <th>Cost To Fill Tank</th>\n",
       "      <th>Miles per Tank</th>\n",
       "      <th>Tank Volume</th>\n",
       "      <th>Carbon Dioxide Emission per Annum</th>\n",
       "      <th>EPA Size Class</th>\n",
       "      <th>Engine Size in Liters</th>\n",
       "      <th>Cylinders</th>\n",
       "      <th>Passenger Volume</th>\n",
       "      <th>Luggage Volume</th>\n",
       "    </tr>\n",
       "  </thead>\n",
       "  <tbody>\n",
       "    <tr>\n",
       "      <th>0</th>\n",
       "      <td>Toyota Prius</td>\n",
       "      <td>Regular Gasoline</td>\n",
       "      <td>Auto (CVT)</td>\n",
       "      <td>60.0</td>\n",
       "      <td>51.0</td>\n",
       "      <td>55.0</td>\n",
       "      <td>$1.46</td>\n",
       "      <td>0.45 gal</td>\n",
       "      <td>$34.49</td>\n",
       "      <td>589 miles</td>\n",
       "      <td>11.9 gal</td>\n",
       "      <td>3.4 tons</td>\n",
       "      <td>Midsize Car</td>\n",
       "      <td>1.5</td>\n",
       "      <td>4.0</td>\n",
       "      <td>96 ft3 (HB)</td>\n",
       "      <td>16 ft3 (HB)</td>\n",
       "    </tr>\n",
       "    <tr>\n",
       "      <th>1</th>\n",
       "      <td>Toyota Camry Hybrid</td>\n",
       "      <td>Regular Gasoline</td>\n",
       "      <td>Auto (CVT)</td>\n",
       "      <td>40.0</td>\n",
       "      <td>38.0</td>\n",
       "      <td>39.0</td>\n",
       "      <td>$2.06</td>\n",
       "      <td>0.64 gal</td>\n",
       "      <td>$49.85</td>\n",
       "      <td>604 miles</td>\n",
       "      <td>17.2 gal</td>\n",
       "      <td>4.8 tons</td>\n",
       "      <td>Midsize Car</td>\n",
       "      <td>2.4</td>\n",
       "      <td>4.0</td>\n",
       "      <td>101ft3 (4D)</td>\n",
       "      <td>11ft3 (4D)</td>\n",
       "    </tr>\n",
       "    <tr>\n",
       "      <th>2</th>\n",
       "      <td>Saturn Aura Hybrid</td>\n",
       "      <td>Regular Gasoline</td>\n",
       "      <td>Auto (CVT)</td>\n",
       "      <td>28.0</td>\n",
       "      <td>35.0</td>\n",
       "      <td>30.0</td>\n",
       "      <td>$2.68</td>\n",
       "      <td>0.83 gal</td>\n",
       "      <td>$47.53</td>\n",
       "      <td>443 miles</td>\n",
       "      <td>16.4 gal</td>\n",
       "      <td>6.0 tons</td>\n",
       "      <td>Midsize Car</td>\n",
       "      <td>2.4</td>\n",
       "      <td>4.0</td>\n",
       "      <td>NaN</td>\n",
       "      <td>NaN</td>\n",
       "    </tr>\n",
       "    <tr>\n",
       "      <th>3</th>\n",
       "      <td>Nissan Altima</td>\n",
       "      <td>Regular Gasoline</td>\n",
       "      <td>Auto (CVT)</td>\n",
       "      <td>42.0</td>\n",
       "      <td>36.0</td>\n",
       "      <td>39.0</td>\n",
       "      <td>$2.06</td>\n",
       "      <td>0.64 gal</td>\n",
       "      <td>$57.96</td>\n",
       "      <td>702 miles</td>\n",
       "      <td>20.0 gal</td>\n",
       "      <td>4.7 tons</td>\n",
       "      <td>Midsize Car</td>\n",
       "      <td>2.5</td>\n",
       "      <td>4.0</td>\n",
       "      <td>101ft3 (4D)</td>\n",
       "      <td>10 ft3 (4D)</td>\n",
       "    </tr>\n",
       "    <tr>\n",
       "      <th>4</th>\n",
       "      <td>Hybrid Lexus GS 450h</td>\n",
       "      <td>Premium Gasoline</td>\n",
       "      <td>Auto (S6)</td>\n",
       "      <td>25.0</td>\n",
       "      <td>28.0</td>\n",
       "      <td>26.0</td>\n",
       "      <td>$3.27</td>\n",
       "      <td>0.96 gal</td>\n",
       "      <td>$52.63</td>\n",
       "      <td>402 miles</td>\n",
       "      <td>17.2 gal</td>\n",
       "      <td>8.0 tons</td>\n",
       "      <td>Compact Car</td>\n",
       "      <td>3.5</td>\n",
       "      <td>6.0</td>\n",
       "      <td>98 ft3 (4D)</td>\n",
       "      <td>8 ft3 (4D)</td>\n",
       "    </tr>\n",
       "    <tr>\n",
       "      <th>5</th>\n",
       "      <td>Honda Civic Hybrid</td>\n",
       "      <td>Regular Gasoline</td>\n",
       "      <td>Auto (CVT)</td>\n",
       "      <td>49.0</td>\n",
       "      <td>51.0</td>\n",
       "      <td>50.0</td>\n",
       "      <td>$1.61</td>\n",
       "      <td>0.50 gal</td>\n",
       "      <td>$35.65</td>\n",
       "      <td>554 miles</td>\n",
       "      <td>12.3 gal</td>\n",
       "      <td>4.4 tons</td>\n",
       "      <td>Compact Car</td>\n",
       "      <td>1.3</td>\n",
       "      <td>4.0</td>\n",
       "      <td>91ft3 (4D)</td>\n",
       "      <td>10ft3 (4D)</td>\n",
       "    </tr>\n",
       "    <tr>\n",
       "      <th>6</th>\n",
       "      <td>Honda Accord Hybrid</td>\n",
       "      <td>Regular Gasoline</td>\n",
       "      <td>Auto (5 speed)</td>\n",
       "      <td>28.0</td>\n",
       "      <td>35.0</td>\n",
       "      <td>31.0</td>\n",
       "      <td>$2.60</td>\n",
       "      <td>0.81 gal</td>\n",
       "      <td>$49.56</td>\n",
       "      <td>477 miles</td>\n",
       "      <td>17.1 gal</td>\n",
       "      <td>6.8 tons</td>\n",
       "      <td>Midsize Car</td>\n",
       "      <td>3.0</td>\n",
       "      <td>6.0</td>\n",
       "      <td>103ft3 (4D)</td>\n",
       "      <td>11ft3 (4D)</td>\n",
       "    </tr>\n",
       "  </tbody>\n",
       "</table>\n",
       "</div>"
      ],
      "text/plain": [
       "               Features         Fuel Type    Transmission  MPG in City  \\\n",
       "0          Toyota Prius  Regular Gasoline      Auto (CVT)         60.0   \n",
       "1   Toyota Camry Hybrid  Regular Gasoline      Auto (CVT)         40.0   \n",
       "2    Saturn Aura Hybrid  Regular Gasoline      Auto (CVT)         28.0   \n",
       "3         Nissan Altima  Regular Gasoline      Auto (CVT)         42.0   \n",
       "4  Hybrid Lexus GS 450h  Premium Gasoline       Auto (S6)         25.0   \n",
       "5    Honda Civic Hybrid  Regular Gasoline      Auto (CVT)         49.0   \n",
       "6   Honda Accord Hybrid  Regular Gasoline  Auto (5 speed)         28.0   \n",
       "\n",
       "   MPG on Highway  Overall MPG Cost for 25 Miles Fuel to Drive 25 Miles  \\\n",
       "0            51.0         55.0             $1.46               0.45 gal   \n",
       "1            38.0         39.0             $2.06               0.64 gal   \n",
       "2            35.0         30.0             $2.68               0.83 gal   \n",
       "3            36.0         39.0             $2.06               0.64 gal   \n",
       "4            28.0         26.0             $3.27               0.96 gal   \n",
       "5            51.0         50.0             $1.61               0.50 gal   \n",
       "6            35.0         31.0             $2.60               0.81 gal   \n",
       "\n",
       "  Cost To Fill Tank Miles per Tank Tank Volume  \\\n",
       "0            $34.49      589 miles    11.9 gal   \n",
       "1            $49.85      604 miles    17.2 gal   \n",
       "2            $47.53      443 miles    16.4 gal   \n",
       "3            $57.96      702 miles    20.0 gal   \n",
       "4            $52.63      402 miles    17.2 gal   \n",
       "5            $35.65      554 miles    12.3 gal   \n",
       "6            $49.56      477 miles    17.1 gal   \n",
       "\n",
       "  Carbon Dioxide Emission per Annum EPA Size Class  Engine Size in Liters  \\\n",
       "0                          3.4 tons    Midsize Car                    1.5   \n",
       "1                          4.8 tons    Midsize Car                    2.4   \n",
       "2                          6.0 tons    Midsize Car                    2.4   \n",
       "3                          4.7 tons    Midsize Car                    2.5   \n",
       "4                          8.0 tons    Compact Car                    3.5   \n",
       "5                          4.4 tons    Compact Car                    1.3   \n",
       "6                          6.8 tons    Midsize Car                    3.0   \n",
       "\n",
       "   Cylinders Passenger Volume Luggage Volume  \n",
       "0        4.0      96 ft3 (HB)    16 ft3 (HB)  \n",
       "1        4.0      101ft3 (4D)     11ft3 (4D)  \n",
       "2        4.0              NaN            NaN  \n",
       "3        4.0      101ft3 (4D)    10 ft3 (4D)  \n",
       "4        6.0      98 ft3 (4D)     8 ft3 (4D)  \n",
       "5        4.0       91ft3 (4D)     10ft3 (4D)  \n",
       "6        6.0      103ft3 (4D)     11ft3 (4D)  "
      ]
     },
     "execution_count": 3,
     "metadata": {},
     "output_type": "execute_result"
    }
   ],
   "source": [
    "data.drop([7, 8, 9], axis=0, inplace=True)\n",
    "data"
   ]
  },
  {
   "cell_type": "markdown",
   "metadata": {},
   "source": [
    "Собственно, для некоторой простоты давайте выкинем нечисловые признаки."
   ]
  },
  {
   "cell_type": "code",
   "execution_count": 4,
   "metadata": {},
   "outputs": [
    {
     "data": {
      "text/html": [
       "<div>\n",
       "<style scoped>\n",
       "    .dataframe tbody tr th:only-of-type {\n",
       "        vertical-align: middle;\n",
       "    }\n",
       "\n",
       "    .dataframe tbody tr th {\n",
       "        vertical-align: top;\n",
       "    }\n",
       "\n",
       "    .dataframe thead th {\n",
       "        text-align: right;\n",
       "    }\n",
       "</style>\n",
       "<table border=\"1\" class=\"dataframe\">\n",
       "  <thead>\n",
       "    <tr style=\"text-align: right;\">\n",
       "      <th></th>\n",
       "      <th>MPG in City</th>\n",
       "      <th>MPG on Highway</th>\n",
       "      <th>Overall MPG</th>\n",
       "      <th>Cost for 25 Miles</th>\n",
       "      <th>Fuel to Drive 25 Miles</th>\n",
       "      <th>Cost To Fill Tank</th>\n",
       "      <th>Miles per Tank</th>\n",
       "      <th>Tank Volume</th>\n",
       "      <th>Engine Size in Liters</th>\n",
       "      <th>Cylinders</th>\n",
       "    </tr>\n",
       "  </thead>\n",
       "  <tbody>\n",
       "    <tr>\n",
       "      <th>0</th>\n",
       "      <td>60.0</td>\n",
       "      <td>51.0</td>\n",
       "      <td>55.0</td>\n",
       "      <td>$1.46</td>\n",
       "      <td>0.45 gal</td>\n",
       "      <td>$34.49</td>\n",
       "      <td>589 miles</td>\n",
       "      <td>11.9 gal</td>\n",
       "      <td>1.5</td>\n",
       "      <td>4.0</td>\n",
       "    </tr>\n",
       "    <tr>\n",
       "      <th>1</th>\n",
       "      <td>40.0</td>\n",
       "      <td>38.0</td>\n",
       "      <td>39.0</td>\n",
       "      <td>$2.06</td>\n",
       "      <td>0.64 gal</td>\n",
       "      <td>$49.85</td>\n",
       "      <td>604 miles</td>\n",
       "      <td>17.2 gal</td>\n",
       "      <td>2.4</td>\n",
       "      <td>4.0</td>\n",
       "    </tr>\n",
       "    <tr>\n",
       "      <th>2</th>\n",
       "      <td>28.0</td>\n",
       "      <td>35.0</td>\n",
       "      <td>30.0</td>\n",
       "      <td>$2.68</td>\n",
       "      <td>0.83 gal</td>\n",
       "      <td>$47.53</td>\n",
       "      <td>443 miles</td>\n",
       "      <td>16.4 gal</td>\n",
       "      <td>2.4</td>\n",
       "      <td>4.0</td>\n",
       "    </tr>\n",
       "    <tr>\n",
       "      <th>3</th>\n",
       "      <td>42.0</td>\n",
       "      <td>36.0</td>\n",
       "      <td>39.0</td>\n",
       "      <td>$2.06</td>\n",
       "      <td>0.64 gal</td>\n",
       "      <td>$57.96</td>\n",
       "      <td>702 miles</td>\n",
       "      <td>20.0 gal</td>\n",
       "      <td>2.5</td>\n",
       "      <td>4.0</td>\n",
       "    </tr>\n",
       "    <tr>\n",
       "      <th>4</th>\n",
       "      <td>25.0</td>\n",
       "      <td>28.0</td>\n",
       "      <td>26.0</td>\n",
       "      <td>$3.27</td>\n",
       "      <td>0.96 gal</td>\n",
       "      <td>$52.63</td>\n",
       "      <td>402 miles</td>\n",
       "      <td>17.2 gal</td>\n",
       "      <td>3.5</td>\n",
       "      <td>6.0</td>\n",
       "    </tr>\n",
       "    <tr>\n",
       "      <th>5</th>\n",
       "      <td>49.0</td>\n",
       "      <td>51.0</td>\n",
       "      <td>50.0</td>\n",
       "      <td>$1.61</td>\n",
       "      <td>0.50 gal</td>\n",
       "      <td>$35.65</td>\n",
       "      <td>554 miles</td>\n",
       "      <td>12.3 gal</td>\n",
       "      <td>1.3</td>\n",
       "      <td>4.0</td>\n",
       "    </tr>\n",
       "    <tr>\n",
       "      <th>6</th>\n",
       "      <td>28.0</td>\n",
       "      <td>35.0</td>\n",
       "      <td>31.0</td>\n",
       "      <td>$2.60</td>\n",
       "      <td>0.81 gal</td>\n",
       "      <td>$49.56</td>\n",
       "      <td>477 miles</td>\n",
       "      <td>17.1 gal</td>\n",
       "      <td>3.0</td>\n",
       "      <td>6.0</td>\n",
       "    </tr>\n",
       "  </tbody>\n",
       "</table>\n",
       "</div>"
      ],
      "text/plain": [
       "   MPG in City  MPG on Highway  Overall MPG Cost for 25 Miles  \\\n",
       "0         60.0            51.0         55.0             $1.46   \n",
       "1         40.0            38.0         39.0             $2.06   \n",
       "2         28.0            35.0         30.0             $2.68   \n",
       "3         42.0            36.0         39.0             $2.06   \n",
       "4         25.0            28.0         26.0             $3.27   \n",
       "5         49.0            51.0         50.0             $1.61   \n",
       "6         28.0            35.0         31.0             $2.60   \n",
       "\n",
       "  Fuel to Drive 25 Miles Cost To Fill Tank Miles per Tank Tank Volume  \\\n",
       "0               0.45 gal            $34.49      589 miles    11.9 gal   \n",
       "1               0.64 gal            $49.85      604 miles    17.2 gal   \n",
       "2               0.83 gal            $47.53      443 miles    16.4 gal   \n",
       "3               0.64 gal            $57.96      702 miles    20.0 gal   \n",
       "4               0.96 gal            $52.63      402 miles    17.2 gal   \n",
       "5               0.50 gal            $35.65      554 miles    12.3 gal   \n",
       "6               0.81 gal            $49.56      477 miles    17.1 gal   \n",
       "\n",
       "   Engine Size in Liters  Cylinders  \n",
       "0                    1.5        4.0  \n",
       "1                    2.4        4.0  \n",
       "2                    2.4        4.0  \n",
       "3                    2.5        4.0  \n",
       "4                    3.5        6.0  \n",
       "5                    1.3        4.0  \n",
       "6                    3.0        6.0  "
      ]
     },
     "execution_count": 4,
     "metadata": {},
     "output_type": "execute_result"
    }
   ],
   "source": [
    "data.drop(['Features', 'Fuel Type', 'Transmission', 'Carbon Dioxide Emission per Annum',\n",
    "           'EPA Size Class', 'Luggage Volume', 'Passenger Volume'], axis=1, inplace=True)\n",
    "data"
   ]
  },
  {
   "cell_type": "code",
   "execution_count": 5,
   "metadata": {},
   "outputs": [
    {
     "data": {
      "text/html": [
       "<div>\n",
       "<style scoped>\n",
       "    .dataframe tbody tr th:only-of-type {\n",
       "        vertical-align: middle;\n",
       "    }\n",
       "\n",
       "    .dataframe tbody tr th {\n",
       "        vertical-align: top;\n",
       "    }\n",
       "\n",
       "    .dataframe thead th {\n",
       "        text-align: right;\n",
       "    }\n",
       "</style>\n",
       "<table border=\"1\" class=\"dataframe\">\n",
       "  <thead>\n",
       "    <tr style=\"text-align: right;\">\n",
       "      <th></th>\n",
       "      <th>MPG in City</th>\n",
       "      <th>MPG on Highway</th>\n",
       "      <th>Overall MPG</th>\n",
       "      <th>Cost for 25 Miles</th>\n",
       "      <th>Fuel to Drive 25 Miles</th>\n",
       "      <th>Cost To Fill Tank</th>\n",
       "      <th>Miles per Tank</th>\n",
       "      <th>Tank Volume</th>\n",
       "      <th>Engine Size in Liters</th>\n",
       "      <th>Cylinders</th>\n",
       "    </tr>\n",
       "  </thead>\n",
       "  <tbody>\n",
       "    <tr>\n",
       "      <th>0</th>\n",
       "      <td>60.0</td>\n",
       "      <td>51.0</td>\n",
       "      <td>55.0</td>\n",
       "      <td>1.46</td>\n",
       "      <td>0.45</td>\n",
       "      <td>34.49</td>\n",
       "      <td>589.0</td>\n",
       "      <td>11.9</td>\n",
       "      <td>1.5</td>\n",
       "      <td>4.0</td>\n",
       "    </tr>\n",
       "    <tr>\n",
       "      <th>1</th>\n",
       "      <td>40.0</td>\n",
       "      <td>38.0</td>\n",
       "      <td>39.0</td>\n",
       "      <td>2.06</td>\n",
       "      <td>0.64</td>\n",
       "      <td>49.85</td>\n",
       "      <td>604.0</td>\n",
       "      <td>17.2</td>\n",
       "      <td>2.4</td>\n",
       "      <td>4.0</td>\n",
       "    </tr>\n",
       "    <tr>\n",
       "      <th>2</th>\n",
       "      <td>28.0</td>\n",
       "      <td>35.0</td>\n",
       "      <td>30.0</td>\n",
       "      <td>2.68</td>\n",
       "      <td>0.83</td>\n",
       "      <td>47.53</td>\n",
       "      <td>443.0</td>\n",
       "      <td>16.4</td>\n",
       "      <td>2.4</td>\n",
       "      <td>4.0</td>\n",
       "    </tr>\n",
       "    <tr>\n",
       "      <th>3</th>\n",
       "      <td>42.0</td>\n",
       "      <td>36.0</td>\n",
       "      <td>39.0</td>\n",
       "      <td>2.06</td>\n",
       "      <td>0.64</td>\n",
       "      <td>57.96</td>\n",
       "      <td>702.0</td>\n",
       "      <td>20.0</td>\n",
       "      <td>2.5</td>\n",
       "      <td>4.0</td>\n",
       "    </tr>\n",
       "    <tr>\n",
       "      <th>4</th>\n",
       "      <td>25.0</td>\n",
       "      <td>28.0</td>\n",
       "      <td>26.0</td>\n",
       "      <td>3.27</td>\n",
       "      <td>0.96</td>\n",
       "      <td>52.63</td>\n",
       "      <td>402.0</td>\n",
       "      <td>17.2</td>\n",
       "      <td>3.5</td>\n",
       "      <td>6.0</td>\n",
       "    </tr>\n",
       "    <tr>\n",
       "      <th>5</th>\n",
       "      <td>49.0</td>\n",
       "      <td>51.0</td>\n",
       "      <td>50.0</td>\n",
       "      <td>1.61</td>\n",
       "      <td>0.50</td>\n",
       "      <td>35.65</td>\n",
       "      <td>554.0</td>\n",
       "      <td>12.3</td>\n",
       "      <td>1.3</td>\n",
       "      <td>4.0</td>\n",
       "    </tr>\n",
       "    <tr>\n",
       "      <th>6</th>\n",
       "      <td>28.0</td>\n",
       "      <td>35.0</td>\n",
       "      <td>31.0</td>\n",
       "      <td>2.60</td>\n",
       "      <td>0.81</td>\n",
       "      <td>49.56</td>\n",
       "      <td>477.0</td>\n",
       "      <td>17.1</td>\n",
       "      <td>3.0</td>\n",
       "      <td>6.0</td>\n",
       "    </tr>\n",
       "  </tbody>\n",
       "</table>\n",
       "</div>"
      ],
      "text/plain": [
       "   MPG in City  MPG on Highway  Overall MPG  Cost for 25 Miles  \\\n",
       "0         60.0            51.0         55.0               1.46   \n",
       "1         40.0            38.0         39.0               2.06   \n",
       "2         28.0            35.0         30.0               2.68   \n",
       "3         42.0            36.0         39.0               2.06   \n",
       "4         25.0            28.0         26.0               3.27   \n",
       "5         49.0            51.0         50.0               1.61   \n",
       "6         28.0            35.0         31.0               2.60   \n",
       "\n",
       "   Fuel to Drive 25 Miles  Cost To Fill Tank  Miles per Tank  Tank Volume  \\\n",
       "0                    0.45              34.49           589.0         11.9   \n",
       "1                    0.64              49.85           604.0         17.2   \n",
       "2                    0.83              47.53           443.0         16.4   \n",
       "3                    0.64              57.96           702.0         20.0   \n",
       "4                    0.96              52.63           402.0         17.2   \n",
       "5                    0.50              35.65           554.0         12.3   \n",
       "6                    0.81              49.56           477.0         17.1   \n",
       "\n",
       "   Engine Size in Liters  Cylinders  \n",
       "0                    1.5        4.0  \n",
       "1                    2.4        4.0  \n",
       "2                    2.4        4.0  \n",
       "3                    2.5        4.0  \n",
       "4                    3.5        6.0  \n",
       "5                    1.3        4.0  \n",
       "6                    3.0        6.0  "
      ]
     },
     "execution_count": 5,
     "metadata": {},
     "output_type": "execute_result"
    }
   ],
   "source": [
    "def float_from_str(s):\n",
    "    if type(s) == str:\n",
    "        return float(''.join(c for c in s if c.isdigit() or c == '.'))\n",
    "    return s\n",
    "\n",
    "for column in data.columns:\n",
    "    data[column] = [float_from_str(s) for s in data[column]]\n",
    "data"
   ]
  },
  {
   "cell_type": "markdown",
   "metadata": {},
   "source": [
    "Столбцы Cost to Fill Tank и Tank Volume, очевидно, линейно зависимы, поэтому выкинем один из них, например, Cost to Fill Tank. Так же Cost for 25 miles можно легко вычислить, зная Cost to Fill Tank (который есть линейная функция от Tank Volume) и Miles per Tank, поэтому исключим этот признак как избыточный. Fuel for 25 Miles и Miles per Tank можно узнать, зная Tank Volume и Overall MPG. Тем не менее, Overall MPG мы будем считать ф-цией от MPG in City и MPG on Highway, поэтому этот признак тоже выкинем."
   ]
  },
  {
   "cell_type": "code",
   "execution_count": 6,
   "metadata": {},
   "outputs": [
    {
     "data": {
      "text/html": [
       "<div>\n",
       "<style scoped>\n",
       "    .dataframe tbody tr th:only-of-type {\n",
       "        vertical-align: middle;\n",
       "    }\n",
       "\n",
       "    .dataframe tbody tr th {\n",
       "        vertical-align: top;\n",
       "    }\n",
       "\n",
       "    .dataframe thead th {\n",
       "        text-align: right;\n",
       "    }\n",
       "</style>\n",
       "<table border=\"1\" class=\"dataframe\">\n",
       "  <thead>\n",
       "    <tr style=\"text-align: right;\">\n",
       "      <th></th>\n",
       "      <th>MPG in City</th>\n",
       "      <th>MPG on Highway</th>\n",
       "      <th>Tank Volume</th>\n",
       "      <th>Engine Size in Liters</th>\n",
       "      <th>Cylinders</th>\n",
       "    </tr>\n",
       "  </thead>\n",
       "  <tbody>\n",
       "    <tr>\n",
       "      <th>0</th>\n",
       "      <td>60.0</td>\n",
       "      <td>51.0</td>\n",
       "      <td>11.9</td>\n",
       "      <td>1.5</td>\n",
       "      <td>4.0</td>\n",
       "    </tr>\n",
       "    <tr>\n",
       "      <th>1</th>\n",
       "      <td>40.0</td>\n",
       "      <td>38.0</td>\n",
       "      <td>17.2</td>\n",
       "      <td>2.4</td>\n",
       "      <td>4.0</td>\n",
       "    </tr>\n",
       "    <tr>\n",
       "      <th>2</th>\n",
       "      <td>28.0</td>\n",
       "      <td>35.0</td>\n",
       "      <td>16.4</td>\n",
       "      <td>2.4</td>\n",
       "      <td>4.0</td>\n",
       "    </tr>\n",
       "    <tr>\n",
       "      <th>3</th>\n",
       "      <td>42.0</td>\n",
       "      <td>36.0</td>\n",
       "      <td>20.0</td>\n",
       "      <td>2.5</td>\n",
       "      <td>4.0</td>\n",
       "    </tr>\n",
       "    <tr>\n",
       "      <th>4</th>\n",
       "      <td>25.0</td>\n",
       "      <td>28.0</td>\n",
       "      <td>17.2</td>\n",
       "      <td>3.5</td>\n",
       "      <td>6.0</td>\n",
       "    </tr>\n",
       "    <tr>\n",
       "      <th>5</th>\n",
       "      <td>49.0</td>\n",
       "      <td>51.0</td>\n",
       "      <td>12.3</td>\n",
       "      <td>1.3</td>\n",
       "      <td>4.0</td>\n",
       "    </tr>\n",
       "    <tr>\n",
       "      <th>6</th>\n",
       "      <td>28.0</td>\n",
       "      <td>35.0</td>\n",
       "      <td>17.1</td>\n",
       "      <td>3.0</td>\n",
       "      <td>6.0</td>\n",
       "    </tr>\n",
       "  </tbody>\n",
       "</table>\n",
       "</div>"
      ],
      "text/plain": [
       "   MPG in City  MPG on Highway  Tank Volume  Engine Size in Liters  Cylinders\n",
       "0         60.0            51.0         11.9                    1.5        4.0\n",
       "1         40.0            38.0         17.2                    2.4        4.0\n",
       "2         28.0            35.0         16.4                    2.4        4.0\n",
       "3         42.0            36.0         20.0                    2.5        4.0\n",
       "4         25.0            28.0         17.2                    3.5        6.0\n",
       "5         49.0            51.0         12.3                    1.3        4.0\n",
       "6         28.0            35.0         17.1                    3.0        6.0"
      ]
     },
     "execution_count": 6,
     "metadata": {},
     "output_type": "execute_result"
    }
   ],
   "source": [
    "data.drop(['Cost for 25 Miles', 'Cost To Fill Tank', 'Fuel to Drive 25 Miles', 'Miles per Tank', 'Overall MPG'], axis=1, inplace=True)\n",
    "data"
   ]
  },
  {
   "cell_type": "markdown",
   "metadata": {},
   "source": [
    "Разместим столбцы в порядке убывания важности признаков (по моему бессомненно экспертному мнению). Убывание важности признаков означает, что модули весов при них не возрастают."
   ]
  },
  {
   "cell_type": "code",
   "execution_count": 7,
   "metadata": {},
   "outputs": [
    {
     "data": {
      "text/html": [
       "<div>\n",
       "<style scoped>\n",
       "    .dataframe tbody tr th:only-of-type {\n",
       "        vertical-align: middle;\n",
       "    }\n",
       "\n",
       "    .dataframe tbody tr th {\n",
       "        vertical-align: top;\n",
       "    }\n",
       "\n",
       "    .dataframe thead th {\n",
       "        text-align: right;\n",
       "    }\n",
       "</style>\n",
       "<table border=\"1\" class=\"dataframe\">\n",
       "  <thead>\n",
       "    <tr style=\"text-align: right;\">\n",
       "      <th></th>\n",
       "      <th>MPG in City</th>\n",
       "      <th>Tank Volume</th>\n",
       "      <th>MPG on Highway</th>\n",
       "      <th>Engine Size in Liters</th>\n",
       "      <th>Cylinders</th>\n",
       "    </tr>\n",
       "  </thead>\n",
       "  <tbody>\n",
       "    <tr>\n",
       "      <th>0</th>\n",
       "      <td>60.0</td>\n",
       "      <td>11.9</td>\n",
       "      <td>51.0</td>\n",
       "      <td>1.5</td>\n",
       "      <td>4.0</td>\n",
       "    </tr>\n",
       "    <tr>\n",
       "      <th>1</th>\n",
       "      <td>40.0</td>\n",
       "      <td>17.2</td>\n",
       "      <td>38.0</td>\n",
       "      <td>2.4</td>\n",
       "      <td>4.0</td>\n",
       "    </tr>\n",
       "    <tr>\n",
       "      <th>2</th>\n",
       "      <td>28.0</td>\n",
       "      <td>16.4</td>\n",
       "      <td>35.0</td>\n",
       "      <td>2.4</td>\n",
       "      <td>4.0</td>\n",
       "    </tr>\n",
       "    <tr>\n",
       "      <th>3</th>\n",
       "      <td>42.0</td>\n",
       "      <td>20.0</td>\n",
       "      <td>36.0</td>\n",
       "      <td>2.5</td>\n",
       "      <td>4.0</td>\n",
       "    </tr>\n",
       "    <tr>\n",
       "      <th>4</th>\n",
       "      <td>25.0</td>\n",
       "      <td>17.2</td>\n",
       "      <td>28.0</td>\n",
       "      <td>3.5</td>\n",
       "      <td>6.0</td>\n",
       "    </tr>\n",
       "    <tr>\n",
       "      <th>5</th>\n",
       "      <td>49.0</td>\n",
       "      <td>12.3</td>\n",
       "      <td>51.0</td>\n",
       "      <td>1.3</td>\n",
       "      <td>4.0</td>\n",
       "    </tr>\n",
       "    <tr>\n",
       "      <th>6</th>\n",
       "      <td>28.0</td>\n",
       "      <td>17.1</td>\n",
       "      <td>35.0</td>\n",
       "      <td>3.0</td>\n",
       "      <td>6.0</td>\n",
       "    </tr>\n",
       "  </tbody>\n",
       "</table>\n",
       "</div>"
      ],
      "text/plain": [
       "   MPG in City  Tank Volume  MPG on Highway  Engine Size in Liters  Cylinders\n",
       "0         60.0         11.9            51.0                    1.5        4.0\n",
       "1         40.0         17.2            38.0                    2.4        4.0\n",
       "2         28.0         16.4            35.0                    2.4        4.0\n",
       "3         42.0         20.0            36.0                    2.5        4.0\n",
       "4         25.0         17.2            28.0                    3.5        6.0\n",
       "5         49.0         12.3            51.0                    1.3        4.0\n",
       "6         28.0         17.1            35.0                    3.0        6.0"
      ]
     },
     "execution_count": 7,
     "metadata": {},
     "output_type": "execute_result"
    }
   ],
   "source": [
    "data = data.reindex(columns=['MPG in City', 'Tank Volume', 'MPG on Highway', 'Engine Size in Liters', 'Cylinders'])\n",
    "data"
   ]
  },
  {
   "cell_type": "markdown",
   "metadata": {},
   "source": [
    "Дадим не менее экспертную оценку и самим автомобилям (по шкале от 1 до 10)"
   ]
  },
  {
   "cell_type": "code",
   "execution_count": 8,
   "metadata": {},
   "outputs": [],
   "source": [
    "y = np.array([3, 7, 9, 8, 9.5, 5, 9])"
   ]
  },
  {
   "cell_type": "markdown",
   "metadata": {},
   "source": [
    "Представим таблицу как матрицу. Поразмыслив, мы решили все-таки не добавлять столбец единиц. Да, это не очень типично для линейной регрессии, но есть подозрение, что при изотонической регрессии он будет только мешать, ведь эксперт не может наложить никаких ограничений на вес при фиктивном признаке, соответственно, наш алгоритм будет подгоняться под экспертные оценки, игнорируя свободный член, что, скорее всего, приведет только к ухудшению ситуации."
   ]
  },
  {
   "cell_type": "code",
   "execution_count": 9,
   "metadata": {},
   "outputs": [
    {
     "data": {
      "text/plain": [
       "array([[60. , 11.9, 51. ,  1.5,  4. ],\n",
       "       [40. , 17.2, 38. ,  2.4,  4. ],\n",
       "       [28. , 16.4, 35. ,  2.4,  4. ],\n",
       "       [42. , 20. , 36. ,  2.5,  4. ],\n",
       "       [25. , 17.2, 28. ,  3.5,  6. ],\n",
       "       [49. , 12.3, 51. ,  1.3,  4. ],\n",
       "       [28. , 17.1, 35. ,  3. ,  6. ]])"
      ]
     },
     "execution_count": 9,
     "metadata": {},
     "output_type": "execute_result"
    }
   ],
   "source": [
    "X = data.to_numpy()\n",
    "X"
   ]
  },
  {
   "cell_type": "markdown",
   "metadata": {},
   "source": [
    "Посчитаем веса, соответствующие нашим экспертным оценкам."
   ]
  },
  {
   "cell_type": "code",
   "execution_count": 10,
   "metadata": {},
   "outputs": [
    {
     "name": "stdout",
     "output_type": "stream",
     "text": [
      "[-0.18452797  0.34524197  0.18014888  1.410584   -0.33753948]\n"
     ]
    }
   ],
   "source": [
    "expert_weights = np.dot(np.linalg.pinv(X), y)\n",
    "print(expert_weights)"
   ]
  },
  {
   "cell_type": "markdown",
   "metadata": {},
   "source": [
    "Как видим, экспертные веса совсем не соответствуют тем ограничениям, которые мы, как эксперты, наложили на них. Больше всего внимания мы уделяем Engine Size in Liters, хотя на деле это один из самых незначительных признаков. Что ж, не вышло из нас экспертов!  \n",
    "Тем не менее, не будем пытаться что-то менять, а попробуем поработать с тем, что есть. Очевидно, при столь большой ошибке трудно учесть сразу и экспертные оценки, и экспертные веса."
   ]
  },
  {
   "cell_type": "code",
   "execution_count": 11,
   "metadata": {},
   "outputs": [],
   "source": [
    "def error_func(w, *args): #args[0] = lambda\n",
    "    return np.sum((expert_weights - w)**2) + args[0]*np.sum(np.clip(np.abs(w[1:]) - np.abs(w[:-1]), 0, np.inf))"
   ]
  },
  {
   "cell_type": "markdown",
   "metadata": {},
   "source": [
    "Для начала попробуем взять $\\lambda = 0$"
   ]
  },
  {
   "cell_type": "code",
   "execution_count": 12,
   "metadata": {},
   "outputs": [
    {
     "name": "stdout",
     "output_type": "stream",
     "text": [
      "[-0.18452798  0.34524195  0.18014884  1.410584   -0.33753948]\n"
     ]
    }
   ],
   "source": [
    "res = minimize(error_func, x0 =  np.random.rand(len(expert_weights)), args=0.0, method='BFGS')\n",
    "print(res.x)"
   ]
  },
  {
   "cell_type": "markdown",
   "metadata": {},
   "source": [
    "Видим, что полученные веса практически в точности равны экспертным. Несущественная разница вызвана, скорее всего, некоторой погрешностью функции minimize, которая все-таки не может гарантировать в общем случае точного решения.  \n",
    "Возьмем теперь $\\lambda = 100$"
   ]
  },
  {
   "cell_type": "code",
   "execution_count": 13,
   "metadata": {},
   "outputs": [
    {
     "name": "stdout",
     "output_type": "stream",
     "text": [
      "[ 0.05088016  0.0284598  -0.02632545  0.02697104  0.03055558]\n"
     ]
    }
   ],
   "source": [
    "res = minimize(error_func, x0 = np.random.rand(len(expert_weights)), args=100.0, method='BFGS')\n",
    "print(res.x)"
   ]
  },
  {
   "cell_type": "markdown",
   "metadata": {},
   "source": [
    "Видим, что действительно модули наших весов теперь не возрастают.  \n",
    "Построим теперь несколько графиков, соответствующих разным значениям $\\lambda$"
   ]
  },
  {
   "cell_type": "code",
   "execution_count": 14,
   "metadata": {},
   "outputs": [
    {
     "data": {
      "image/png": "[encoded data removed]",
      "text/plain": [
       "<Figure size 432x288 with 1 Axes>"
      ]
     },
     "metadata": {
      "needs_background": "light"
     },
     "output_type": "display_data"
    },
    {
     "data": {
      "image/png": "[encoded data removed]",
      "text/plain": [
       "<Figure size 432x288 with 1 Axes>"
      ]
     },
     "metadata": {
      "needs_background": "light"
     },
     "output_type": "display_data"
    },
    {
     "data": {
      "image/png": "[encoded data removed]",
      "text/plain": [
       "<Figure size 432x288 with 1 Axes>"
      ]
     },
     "metadata": {
      "needs_background": "light"
     },
     "output_type": "display_data"
    },
    {
     "data": {
      "image/png": "[encoded data removed]",
      "text/plain": [
       "<Figure size 432x288 with 1 Axes>"
      ]
     },
     "metadata": {
      "needs_background": "light"
     },
     "output_type": "display_data"
    },
    {
     "data": {
      "image/png": "[encoded data removed]",
      "text/plain": [
       "<Figure size 432x288 with 1 Axes>"
      ]
     },
     "metadata": {
      "needs_background": "light"
     },
     "output_type": "display_data"
    },
    {
     "data": {
      "image/png": "[encoded data removed]",
      "text/plain": [
       "<Figure size 432x288 with 1 Axes>"
      ]
     },
     "metadata": {
      "needs_background": "light"
     },
     "output_type": "display_data"
    }
   ],
   "source": [
    "for lmb in np.arange(0, 3, 0.5):\n",
    "    plt.plot(np.arange(len(expert_weights)) + 1, np.abs(minimize(error_func, x0 = np.random.rand(len(expert_weights)), \n",
    "                                                      args=lmb, method='BFGS').x))\n",
    "    plt.title('$\\\\lambda = $' + str(lmb))\n",
    "    plt.show()"
   ]
  },
  {
   "cell_type": "markdown",
   "metadata": {},
   "source": [
    "Между 1,5 и 2 наблюдаем существенные изменения. Выведем поподробнее."
   ]
  },
  {
   "cell_type": "code",
   "execution_count": 15,
   "metadata": {},
   "outputs": [
    {
     "data": {
      "image/png": "[encoded data removed]",
      "text/plain": [
       "<Figure size 432x288 with 1 Axes>"
      ]
     },
     "metadata": {
      "needs_background": "light"
     },
     "output_type": "display_data"
    },
    {
     "data": {
      "image/png": "[encoded data removed]",
      "text/plain": [
       "<Figure size 432x288 with 1 Axes>"
      ]
     },
     "metadata": {
      "needs_background": "light"
     },
     "output_type": "display_data"
    },
    {
     "data": {
      "image/png": "[encoded data removed]",
      "text/plain": [
       "<Figure size 432x288 with 1 Axes>"
      ]
     },
     "metadata": {
      "needs_background": "light"
     },
     "output_type": "display_data"
    },
    {
     "data": {
      "image/png": "[encoded data removed]",
      "text/plain": [
       "<Figure size 432x288 with 1 Axes>"
      ]
     },
     "metadata": {
      "needs_background": "light"
     },
     "output_type": "display_data"
    },
    {
     "data": {
      "image/png": "[encoded data removed]",
      "text/plain": [
       "<Figure size 432x288 with 1 Axes>"
      ]
     },
     "metadata": {
      "needs_background": "light"
     },
     "output_type": "display_data"
    },
    {
     "data": {
      "image/png": "[encoded data removed]",
      "text/plain": [
       "<Figure size 432x288 with 1 Axes>"
      ]
     },
     "metadata": {
      "needs_background": "light"
     },
     "output_type": "display_data"
    }
   ],
   "source": [
    "for lmb in np.arange(1.5, 2.05, 0.1):\n",
    "    plt.plot(np.arange(len(expert_weights)) + 1, np.abs(minimize(error_func, x0 = np.random.rand(len(expert_weights)), \n",
    "                                                      args=lmb, method='BFGS').x))\n",
    "    plt.title('$\\\\lambda = $' + str(round(lmb, 1)))\n",
    "    plt.show()"
   ]
  }
 ],
 "metadata": {
  "kernelspec": {
   "display_name": "Python 3",
   "language": "python",
   "name": "python3"
  },
  "language_info": {
   "codemirror_mode": {
    "name": "ipython",
    "version": 3
   },
   "file_extension": ".py",
   "mimetype": "text/x-python",
   "name": "python",
   "nbconvert_exporter": "python",
   "pygments_lexer": "ipython3",
   "version": "3.7.3"
  }
 },
 "nbformat": 4,
 "nbformat_minor": 2
}
