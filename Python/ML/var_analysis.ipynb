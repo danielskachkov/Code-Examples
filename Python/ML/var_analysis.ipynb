{
 "cells": [
  {
   "cell_type": "markdown",
   "metadata": {},
   "source": [
    "# Визуализация пространства параметров "
   ]
  },
  {
   "cell_type": "markdown",
   "metadata": {},
   "source": [
    "Как обычно, начнем с импортирования необходимых библиотек."
   ]
  },
  {
   "cell_type": "code",
   "execution_count": 1,
   "metadata": {},
   "outputs": [],
   "source": [
    "import numpy as np\n",
    "import pandas as pd\n",
    "from matplotlib import pyplot as plt"
   ]
  },
  {
   "cell_type": "markdown",
   "metadata": {},
   "source": [
    "Считаем датасет из файла (ничего нового)"
   ]
  },
  {
   "cell_type": "code",
   "execution_count": 2,
   "metadata": {},
   "outputs": [
    {
     "data": {
      "text/html": [
       "<div>\n",
       "<style scoped>\n",
       "    .dataframe tbody tr th:only-of-type {\n",
       "        vertical-align: middle;\n",
       "    }\n",
       "\n",
       "    .dataframe tbody tr th {\n",
       "        vertical-align: top;\n",
       "    }\n",
       "\n",
       "    .dataframe thead th {\n",
       "        text-align: right;\n",
       "    }\n",
       "</style>\n",
       "<table border=\"1\" class=\"dataframe\">\n",
       "  <thead>\n",
       "    <tr style=\"text-align: right;\">\n",
       "      <th></th>\n",
       "      <th>Date</th>\n",
       "      <th>WeekDay</th>\n",
       "      <th>Hour</th>\n",
       "      <th>ConsumprionMWtH</th>\n",
       "      <th>TemperatureC</th>\n",
       "    </tr>\n",
       "  </thead>\n",
       "  <tbody>\n",
       "    <tr>\n",
       "      <th>0</th>\n",
       "      <td>2005-01-01 00:00:00</td>\n",
       "      <td>6</td>\n",
       "      <td>00:00:00</td>\n",
       "      <td>1289.617859</td>\n",
       "      <td>-10.676569</td>\n",
       "    </tr>\n",
       "    <tr>\n",
       "      <th>1</th>\n",
       "      <td>2005-01-01 01:00:00</td>\n",
       "      <td>6</td>\n",
       "      <td>01:00:00</td>\n",
       "      <td>1265.573853</td>\n",
       "      <td>-12.041959</td>\n",
       "    </tr>\n",
       "    <tr>\n",
       "      <th>2</th>\n",
       "      <td>2005-01-01 02:00:00</td>\n",
       "      <td>6</td>\n",
       "      <td>02:00:00</td>\n",
       "      <td>1273.188232</td>\n",
       "      <td>-13.198006</td>\n",
       "    </tr>\n",
       "    <tr>\n",
       "      <th>3</th>\n",
       "      <td>2005-01-01 03:00:00</td>\n",
       "      <td>6</td>\n",
       "      <td>03:00:00</td>\n",
       "      <td>1279.703979</td>\n",
       "      <td>-13.999279</td>\n",
       "    </tr>\n",
       "    <tr>\n",
       "      <th>4</th>\n",
       "      <td>2005-01-01 04:00:00</td>\n",
       "      <td>6</td>\n",
       "      <td>04:00:00</td>\n",
       "      <td>1292.839539</td>\n",
       "      <td>-14.782819</td>\n",
       "    </tr>\n",
       "  </tbody>\n",
       "</table>\n",
       "</div>"
      ],
      "text/plain": [
       "                 Date  WeekDay      Hour  ConsumprionMWtH  TemperatureC\n",
       "0 2005-01-01 00:00:00        6  00:00:00      1289.617859    -10.676569\n",
       "1 2005-01-01 01:00:00        6  01:00:00      1265.573853    -12.041959\n",
       "2 2005-01-01 02:00:00        6  02:00:00      1273.188232    -13.198006\n",
       "3 2005-01-01 03:00:00        6  03:00:00      1279.703979    -13.999279\n",
       "4 2005-01-01 04:00:00        6  04:00:00      1292.839539    -14.782819"
      ]
     },
     "execution_count": 2,
     "metadata": {},
     "output_type": "execute_result"
    }
   ],
   "source": [
    "data = pd.read_excel('EnergyConsumption.xls')\n",
    "data.head()"
   ]
  },
  {
   "cell_type": "markdown",
   "metadata": {},
   "source": [
    "Проведем кое-какие манипуляции."
   ]
  },
  {
   "cell_type": "code",
   "execution_count": 3,
   "metadata": {},
   "outputs": [
    {
     "data": {
      "text/html": [
       "<div>\n",
       "<style scoped>\n",
       "    .dataframe tbody tr th:only-of-type {\n",
       "        vertical-align: middle;\n",
       "    }\n",
       "\n",
       "    .dataframe tbody tr th {\n",
       "        vertical-align: top;\n",
       "    }\n",
       "\n",
       "    .dataframe thead th {\n",
       "        text-align: right;\n",
       "    }\n",
       "</style>\n",
       "<table border=\"1\" class=\"dataframe\">\n",
       "  <thead>\n",
       "    <tr style=\"text-align: right;\">\n",
       "      <th></th>\n",
       "      <th>Date</th>\n",
       "      <th>WeekDay</th>\n",
       "      <th>Hour</th>\n",
       "      <th>ConsumprionMWtH</th>\n",
       "      <th>TemperatureC</th>\n",
       "    </tr>\n",
       "  </thead>\n",
       "  <tbody>\n",
       "    <tr>\n",
       "      <th>0</th>\n",
       "      <td>122</td>\n",
       "      <td>6</td>\n",
       "      <td>0</td>\n",
       "      <td>1289.617859</td>\n",
       "      <td>-10.676569</td>\n",
       "    </tr>\n",
       "    <tr>\n",
       "      <th>1</th>\n",
       "      <td>122</td>\n",
       "      <td>6</td>\n",
       "      <td>1</td>\n",
       "      <td>1265.573853</td>\n",
       "      <td>-12.041959</td>\n",
       "    </tr>\n",
       "    <tr>\n",
       "      <th>2</th>\n",
       "      <td>122</td>\n",
       "      <td>6</td>\n",
       "      <td>2</td>\n",
       "      <td>1273.188232</td>\n",
       "      <td>-13.198006</td>\n",
       "    </tr>\n",
       "    <tr>\n",
       "      <th>3</th>\n",
       "      <td>122</td>\n",
       "      <td>6</td>\n",
       "      <td>3</td>\n",
       "      <td>1279.703979</td>\n",
       "      <td>-13.999279</td>\n",
       "    </tr>\n",
       "    <tr>\n",
       "      <th>4</th>\n",
       "      <td>122</td>\n",
       "      <td>6</td>\n",
       "      <td>4</td>\n",
       "      <td>1292.839539</td>\n",
       "      <td>-14.782819</td>\n",
       "    </tr>\n",
       "  </tbody>\n",
       "</table>\n",
       "</div>"
      ],
      "text/plain": [
       "   Date  WeekDay  Hour  ConsumprionMWtH  TemperatureC\n",
       "0   122        6     0      1289.617859    -10.676569\n",
       "1   122        6     1      1265.573853    -12.041959\n",
       "2   122        6     2      1273.188232    -13.198006\n",
       "3   122        6     3      1279.703979    -13.999279\n",
       "4   122        6     4      1292.839539    -14.782819"
      ]
     },
     "execution_count": 3,
     "metadata": {},
     "output_type": "execute_result"
    }
   ],
   "source": [
    "data.Hour = [x.hour for x in data.Hour]\n",
    "data.Date = [x.toordinal()%365 for x in data.Date]\n",
    "data.head()"
   ]
  },
  {
   "cell_type": "markdown",
   "metadata": {},
   "source": [
    "Перемешаем строки таблицы. В дальнейшем нам это понадобится."
   ]
  },
  {
   "cell_type": "code",
   "execution_count": 4,
   "metadata": {},
   "outputs": [
    {
     "data": {
      "text/html": [
       "<div>\n",
       "<style scoped>\n",
       "    .dataframe tbody tr th:only-of-type {\n",
       "        vertical-align: middle;\n",
       "    }\n",
       "\n",
       "    .dataframe tbody tr th {\n",
       "        vertical-align: top;\n",
       "    }\n",
       "\n",
       "    .dataframe thead th {\n",
       "        text-align: right;\n",
       "    }\n",
       "</style>\n",
       "<table border=\"1\" class=\"dataframe\">\n",
       "  <thead>\n",
       "    <tr style=\"text-align: right;\">\n",
       "      <th></th>\n",
       "      <th>Date</th>\n",
       "      <th>WeekDay</th>\n",
       "      <th>Hour</th>\n",
       "      <th>ConsumprionMWtH</th>\n",
       "      <th>TemperatureC</th>\n",
       "    </tr>\n",
       "  </thead>\n",
       "  <tbody>\n",
       "    <tr>\n",
       "      <th>3296</th>\n",
       "      <td>259</td>\n",
       "      <td>3</td>\n",
       "      <td>8</td>\n",
       "      <td>1078.086792</td>\n",
       "      <td>21.845068</td>\n",
       "    </tr>\n",
       "    <tr>\n",
       "      <th>4480</th>\n",
       "      <td>308</td>\n",
       "      <td>3</td>\n",
       "      <td>16</td>\n",
       "      <td>867.886047</td>\n",
       "      <td>28.332346</td>\n",
       "    </tr>\n",
       "    <tr>\n",
       "      <th>918</th>\n",
       "      <td>160</td>\n",
       "      <td>2</td>\n",
       "      <td>6</td>\n",
       "      <td>1903.476074</td>\n",
       "      <td>-16.201379</td>\n",
       "    </tr>\n",
       "    <tr>\n",
       "      <th>4581</th>\n",
       "      <td>312</td>\n",
       "      <td>7</td>\n",
       "      <td>21</td>\n",
       "      <td>692.986755</td>\n",
       "      <td>18.464511</td>\n",
       "    </tr>\n",
       "    <tr>\n",
       "      <th>648</th>\n",
       "      <td>149</td>\n",
       "      <td>5</td>\n",
       "      <td>0</td>\n",
       "      <td>1379.852539</td>\n",
       "      <td>-19.679447</td>\n",
       "    </tr>\n",
       "  </tbody>\n",
       "</table>\n",
       "</div>"
      ],
      "text/plain": [
       "      Date  WeekDay  Hour  ConsumprionMWtH  TemperatureC\n",
       "3296   259        3     8      1078.086792     21.845068\n",
       "4480   308        3    16       867.886047     28.332346\n",
       "918    160        2     6      1903.476074    -16.201379\n",
       "4581   312        7    21       692.986755     18.464511\n",
       "648    149        5     0      1379.852539    -19.679447"
      ]
     },
     "execution_count": 4,
     "metadata": {},
     "output_type": "execute_result"
    }
   ],
   "source": [
    "data = data.sample(frac=1)\n",
    "data.head()"
   ]
  },
  {
   "cell_type": "markdown",
   "metadata": {},
   "source": [
    "Представим признаки и ответы в виде матриц. Добавим еще признаков. При этом мы сразу отложим 20% от всех объектов в тестовую выборку, оставив лишь 80% для обучения."
   ]
  },
  {
   "cell_type": "code",
   "execution_count": 5,
   "metadata": {},
   "outputs": [],
   "source": [
    "train_X = [[row['Date'], row['WeekDay'], row['Hour'], row['TemperatureC']] for i, row in data.iterrows() if i%5 != 0]\n",
    "train_y = [row['ConsumprionMWtH'] for i, row in data.iterrows() if i%5 != 0]\n",
    "\n",
    "test_X = [[row['Date'], row['WeekDay'], row['Hour'], row['TemperatureC']] for i, row in data.iterrows() if i%5 == 0]\n",
    "test_y = [row['ConsumprionMWtH'] for i, row in data.iterrows() if i%5 == 0]"
   ]
  },
  {
   "cell_type": "code",
   "execution_count": 6,
   "metadata": {},
   "outputs": [],
   "source": [
    "train_X = [np.array([1, x[0], x[0]**2, x[0]**3, x[1], x[1]**2, x[1]**3, x[2], x[2]**2, x[2]**3, x[3]]) for x in train_X]\n",
    "test_X = [np.array([1, x[0], x[0]**2, x[0]**3, x[1], x[1]**2, x[1]**3, x[2], x[2]**2, x[2]**3, x[3]]) for x in test_X]"
   ]
  },
  {
   "cell_type": "markdown",
   "metadata": {},
   "source": [
    "Напишем необходимые функции. Новой из них для нас является только bootstrap."
   ]
  },
  {
   "cell_type": "code",
   "execution_count": 7,
   "metadata": {},
   "outputs": [],
   "source": [
    "def bootstrap(X, y, K):\n",
    "    ans = []\n",
    "    for _ in range(K):\n",
    "        indexes = np.random.choice(np.arange(len(X)), len(X))\n",
    "        X1 = []\n",
    "        y1 = []\n",
    "        for index in indexes:\n",
    "            X1.append(X[index])\n",
    "            y1.append(y[index])\n",
    "        ans.append((X1, y1))\n",
    "    return ans\n",
    "\n",
    "def find_coeffs(X, y):  # обычным МНК находим коэффициенты\n",
    "    w = np.dot(np.linalg.pinv(X), y)\n",
    "    return w\n",
    "\n",
    "def msqr_err(X, w, y): # среднеквадратичная ошибка\n",
    "    return np.nanmean((np.dot(X, w) - y)**2)\n",
    "\n",
    "def msqr_err_var(X, w, y, err):\n",
    "    return np.nanmean((np.dot(X, w) - y)**4) - err**2"
   ]
  },
  {
   "cell_type": "markdown",
   "metadata": {},
   "source": [
    "Начнем с того, что построим графики зависимости среднеквадратичной ошибки и ее дисперсии от количества объектов в обучающей выборке. Собственно, для этого мы и перемешивали наши строки в таблице. Строки были отсортированы по времени, и если бы мы брали первые N строк, не перемешивая, то наша выборка была бы просто неинформативна."
   ]
  },
  {
   "cell_type": "code",
   "execution_count": 8,
   "metadata": {},
   "outputs": [],
   "source": [
    "def draw_graphs(train_X, train_y, low, up, step):\n",
    "    sample_lens = [int(len(train_X)*q) for q in np.arange(low, up, step)]\n",
    "    errs = []\n",
    "    err_vars = []\n",
    "    for length in sample_lens:\n",
    "        X = train_X[:length]\n",
    "        y = train_y[:length]\n",
    "        w = find_coeffs(X, y)\n",
    "        errs.append(msqr_err(test_X, w, test_y))\n",
    "        err_vars.append(msqr_err_var(test_X, w, test_y, errs[-1]))\n",
    "\n",
    "    plt.xlabel('sample length')\n",
    "    plt.ylabel('mean error')\n",
    "    plt.plot(sample_lens, errs)\n",
    "    plt.show()\n",
    "    plt.xlabel('sample length')\n",
    "    plt.ylabel('variance')\n",
    "    plt.plot(sample_lens, err_vars)\n",
    "    plt.show()\n",
    "    plt.xlabel('sample length')\n",
    "    plt.ylabel('mean error')\n",
    "    plt.errorbar(sample_lens, errs, err_vars)\n",
    "    plt.show()"
   ]
  },
  {
   "cell_type": "code",
   "execution_count": 9,
   "metadata": {},
   "outputs": [
    {
     "data": {
      "image/png": "[encoded data removed]",
      "text/plain": [
       "<Figure size 432x288 with 1 Axes>"
      ]
     },
     "metadata": {
      "needs_background": "light"
     },
     "output_type": "display_data"
    },
    {
     "data": {
      "image/png": "[encoded data removed]",
      "text/plain": [
       "<Figure size 432x288 with 1 Axes>"
      ]
     },
     "metadata": {
      "needs_background": "light"
     },
     "output_type": "display_data"
    },
    {
     "data": {
      "image/png": "[encoded data removed]",
      "text/plain": [
       "<Figure size 432x288 with 1 Axes>"
      ]
     },
     "metadata": {
      "needs_background": "light"
     },
     "output_type": "display_data"
    }
   ],
   "source": [
    "draw_graphs(train_X, train_y, 0.01, 1.01, 0.01)"
   ]
  },
  {
   "cell_type": "markdown",
   "metadata": {},
   "source": [
    "Как видим, третий график ничего хорошего не дал. Дисперсия ошибки, к сожалению, очень велика, меняется она слабо, лишь в самом начале резко падает вниз, что, в принципе, логично, потому что если информации очень мало, то ошибка не просто очень большая, но ее будет еще и нехило так \"колбасить\". Давайте отбросим начальный отрезок, чтобы более детально рассмотреть дальнейшее поведение функций."
   ]
  },
  {
   "cell_type": "code",
   "execution_count": 10,
   "metadata": {},
   "outputs": [
    {
     "data": {
      "image/png": "[encoded data removed]",
      "text/plain": [
       "<Figure size 432x288 with 1 Axes>"
      ]
     },
     "metadata": {
      "needs_background": "light"
     },
     "output_type": "display_data"
    },
    {
     "data": {
      "image/png": "[encoded data removed]",
      "text/plain": [
       "<Figure size 432x288 with 1 Axes>"
      ]
     },
     "metadata": {
      "needs_background": "light"
     },
     "output_type": "display_data"
    },
    {
     "data": {
      "image/png": "[encoded data removed]",
      "text/plain": [
       "<Figure size 432x288 with 1 Axes>"
      ]
     },
     "metadata": {
      "needs_background": "light"
     },
     "output_type": "display_data"
    }
   ],
   "source": [
    "draw_graphs(train_X, train_y, 0.3, 1.01, 0.01)"
   ]
  },
  {
   "cell_type": "markdown",
   "metadata": {},
   "source": [
    "Что ж, игнорируя третий график, порадуемся тому факту, что первые два вполне отражают наши ожидания: средняя величина ошибки на тестовой выборке действительно падает, дисперсия же растет, хотя и не очень значительно.  \n",
    "Приступим ко второй части нашего эксперимента, а именно возьмем К выборок, возвращенных функцией bootstrap (попробуем взять К = 10) и вычислим ожидание параметров, дисперсию и ковариацию параметров, ожидание ошибки, дисперсию ошибки."
   ]
  },
  {
   "cell_type": "code",
   "execution_count": 11,
   "metadata": {},
   "outputs": [],
   "source": [
    "K = 10\n",
    "sample = bootstrap(train_X, train_y, K)\n",
    "weights = []\n",
    "\n",
    "for X, y in sample:\n",
    "    weights.append(find_coeffs(X, y))\n",
    "\n",
    "weights = np.array(weights)\n",
    "indexes = ['w' + str(i+1) for i in range(len(weights[0]))]\n",
    "table_means = pd.DataFrame(np.mean(weights, axis=0), index=indexes, columns=['mean val'])\n",
    "table_cov = pd.DataFrame(np.cov(weights, rowvar=False), index=indexes, columns=indexes)\n",
    "errs = np.array([msqr_err(sample[i][0], weights[i], sample[i][1]) for i in range(len(sample))])"
   ]
  },
  {
   "cell_type": "code",
   "execution_count": 12,
   "metadata": {},
   "outputs": [
    {
     "data": {
      "text/html": [
       "<div>\n",
       "<style scoped>\n",
       "    .dataframe tbody tr th:only-of-type {\n",
       "        vertical-align: middle;\n",
       "    }\n",
       "\n",
       "    .dataframe tbody tr th {\n",
       "        vertical-align: top;\n",
       "    }\n",
       "\n",
       "    .dataframe thead th {\n",
       "        text-align: right;\n",
       "    }\n",
       "</style>\n",
       "<table border=\"1\" class=\"dataframe\">\n",
       "  <thead>\n",
       "    <tr style=\"text-align: right;\">\n",
       "      <th></th>\n",
       "      <th>mean val</th>\n",
       "    </tr>\n",
       "  </thead>\n",
       "  <tbody>\n",
       "    <tr>\n",
       "      <th>w1</th>\n",
       "      <td>634.265016</td>\n",
       "    </tr>\n",
       "    <tr>\n",
       "      <th>w2</th>\n",
       "      <td>9.963576</td>\n",
       "    </tr>\n",
       "    <tr>\n",
       "      <th>w3</th>\n",
       "      <td>-0.060633</td>\n",
       "    </tr>\n",
       "    <tr>\n",
       "      <th>w4</th>\n",
       "      <td>0.000093</td>\n",
       "    </tr>\n",
       "    <tr>\n",
       "      <th>w5</th>\n",
       "      <td>54.180419</td>\n",
       "    </tr>\n",
       "    <tr>\n",
       "      <th>w6</th>\n",
       "      <td>-9.983797</td>\n",
       "    </tr>\n",
       "    <tr>\n",
       "      <th>w7</th>\n",
       "      <td>0.046846</td>\n",
       "    </tr>\n",
       "    <tr>\n",
       "      <th>w8</th>\n",
       "      <td>84.021687</td>\n",
       "    </tr>\n",
       "    <tr>\n",
       "      <th>w9</th>\n",
       "      <td>-2.961961</td>\n",
       "    </tr>\n",
       "    <tr>\n",
       "      <th>w10</th>\n",
       "      <td>-0.025797</td>\n",
       "    </tr>\n",
       "    <tr>\n",
       "      <th>w11</th>\n",
       "      <td>-10.799781</td>\n",
       "    </tr>\n",
       "  </tbody>\n",
       "</table>\n",
       "</div>"
      ],
      "text/plain": [
       "       mean val\n",
       "w1   634.265016\n",
       "w2     9.963576\n",
       "w3    -0.060633\n",
       "w4     0.000093\n",
       "w5    54.180419\n",
       "w6    -9.983797\n",
       "w7     0.046846\n",
       "w8    84.021687\n",
       "w9    -2.961961\n",
       "w10   -0.025797\n",
       "w11  -10.799781"
      ]
     },
     "execution_count": 12,
     "metadata": {},
     "output_type": "execute_result"
    }
   ],
   "source": [
    "table_means"
   ]
  },
  {
   "cell_type": "code",
   "execution_count": 13,
   "metadata": {},
   "outputs": [
    {
     "data": {
      "text/html": [
       "<div>\n",
       "<style scoped>\n",
       "    .dataframe tbody tr th:only-of-type {\n",
       "        vertical-align: middle;\n",
       "    }\n",
       "\n",
       "    .dataframe tbody tr th {\n",
       "        vertical-align: top;\n",
       "    }\n",
       "\n",
       "    .dataframe thead th {\n",
       "        text-align: right;\n",
       "    }\n",
       "</style>\n",
       "<table border=\"1\" class=\"dataframe\">\n",
       "  <thead>\n",
       "    <tr style=\"text-align: right;\">\n",
       "      <th></th>\n",
       "      <th>w1</th>\n",
       "      <th>w2</th>\n",
       "      <th>w3</th>\n",
       "      <th>w4</th>\n",
       "      <th>w5</th>\n",
       "      <th>w6</th>\n",
       "      <th>w7</th>\n",
       "      <th>w8</th>\n",
       "      <th>w9</th>\n",
       "      <th>w10</th>\n",
       "      <th>w11</th>\n",
       "    </tr>\n",
       "  </thead>\n",
       "  <tbody>\n",
       "    <tr>\n",
       "      <th>w1</th>\n",
       "      <td>236.109538</td>\n",
       "      <td>-5.485450e-01</td>\n",
       "      <td>4.027054e-03</td>\n",
       "      <td>-7.402715e-06</td>\n",
       "      <td>-165.792160</td>\n",
       "      <td>44.180013</td>\n",
       "      <td>-3.453158e+00</td>\n",
       "      <td>-1.491383e+01</td>\n",
       "      <td>1.354425e+00</td>\n",
       "      <td>-3.805173e-02</td>\n",
       "      <td>-7.636113e-01</td>\n",
       "    </tr>\n",
       "    <tr>\n",
       "      <th>w2</th>\n",
       "      <td>-0.548545</td>\n",
       "      <td>4.881067e-02</td>\n",
       "      <td>-3.133749e-04</td>\n",
       "      <td>5.310296e-07</td>\n",
       "      <td>-0.777367</td>\n",
       "      <td>0.238756</td>\n",
       "      <td>-2.110035e-02</td>\n",
       "      <td>-2.646053e-02</td>\n",
       "      <td>-6.466180e-04</td>\n",
       "      <td>4.530663e-05</td>\n",
       "      <td>3.703607e-02</td>\n",
       "    </tr>\n",
       "    <tr>\n",
       "      <th>w3</th>\n",
       "      <td>0.004027</td>\n",
       "      <td>-3.133749e-04</td>\n",
       "      <td>2.031727e-06</td>\n",
       "      <td>-3.466910e-09</td>\n",
       "      <td>0.004019</td>\n",
       "      <td>-0.001242</td>\n",
       "      <td>1.111032e-04</td>\n",
       "      <td>2.336212e-04</td>\n",
       "      <td>-1.059650e-07</td>\n",
       "      <td>-2.168588e-07</td>\n",
       "      <td>-2.382100e-04</td>\n",
       "    </tr>\n",
       "    <tr>\n",
       "      <th>w4</th>\n",
       "      <td>-0.000007</td>\n",
       "      <td>5.310296e-07</td>\n",
       "      <td>-3.466910e-09</td>\n",
       "      <td>5.947878e-12</td>\n",
       "      <td>-0.000006</td>\n",
       "      <td>0.000002</td>\n",
       "      <td>-1.616036e-07</td>\n",
       "      <td>-4.748538e-07</td>\n",
       "      <td>5.132055e-09</td>\n",
       "      <td>2.860706e-10</td>\n",
       "      <td>4.021344e-07</td>\n",
       "    </tr>\n",
       "    <tr>\n",
       "      <th>w5</th>\n",
       "      <td>-165.792160</td>\n",
       "      <td>-7.773673e-01</td>\n",
       "      <td>4.018530e-03</td>\n",
       "      <td>-5.737463e-06</td>\n",
       "      <td>175.154054</td>\n",
       "      <td>-48.945022</td>\n",
       "      <td>3.958181e+00</td>\n",
       "      <td>6.613625e+00</td>\n",
       "      <td>-5.925210e-01</td>\n",
       "      <td>1.865633e-02</td>\n",
       "      <td>-3.085747e-01</td>\n",
       "    </tr>\n",
       "    <tr>\n",
       "      <th>w6</th>\n",
       "      <td>44.180013</td>\n",
       "      <td>2.387562e-01</td>\n",
       "      <td>-1.241690e-03</td>\n",
       "      <td>1.784624e-06</td>\n",
       "      <td>-48.945022</td>\n",
       "      <td>13.819498</td>\n",
       "      <td>-1.125618e+00</td>\n",
       "      <td>-1.601699e+00</td>\n",
       "      <td>1.413055e-01</td>\n",
       "      <td>-4.578230e-03</td>\n",
       "      <td>1.045638e-01</td>\n",
       "    </tr>\n",
       "    <tr>\n",
       "      <th>w7</th>\n",
       "      <td>-3.453158</td>\n",
       "      <td>-2.110035e-02</td>\n",
       "      <td>1.111032e-04</td>\n",
       "      <td>-1.616036e-07</td>\n",
       "      <td>3.958181</td>\n",
       "      <td>-1.125618</td>\n",
       "      <td>9.221039e-02</td>\n",
       "      <td>1.121504e-01</td>\n",
       "      <td>-9.437315e-03</td>\n",
       "      <td>3.141089e-04</td>\n",
       "      <td>-1.005172e-02</td>\n",
       "    </tr>\n",
       "    <tr>\n",
       "      <th>w8</th>\n",
       "      <td>-14.913827</td>\n",
       "      <td>-2.646053e-02</td>\n",
       "      <td>2.336212e-04</td>\n",
       "      <td>-4.748538e-07</td>\n",
       "      <td>6.613625</td>\n",
       "      <td>-1.601699</td>\n",
       "      <td>1.121504e-01</td>\n",
       "      <td>2.975163e+00</td>\n",
       "      <td>-2.773375e-01</td>\n",
       "      <td>7.316569e-03</td>\n",
       "      <td>2.241183e-02</td>\n",
       "    </tr>\n",
       "    <tr>\n",
       "      <th>w9</th>\n",
       "      <td>1.354425</td>\n",
       "      <td>-6.466180e-04</td>\n",
       "      <td>-1.059650e-07</td>\n",
       "      <td>5.132055e-09</td>\n",
       "      <td>-0.592521</td>\n",
       "      <td>0.141305</td>\n",
       "      <td>-9.437315e-03</td>\n",
       "      <td>-2.773375e-01</td>\n",
       "      <td>2.733565e-02</td>\n",
       "      <td>-7.397159e-04</td>\n",
       "      <td>-4.312444e-03</td>\n",
       "    </tr>\n",
       "    <tr>\n",
       "      <th>w10</th>\n",
       "      <td>-0.038052</td>\n",
       "      <td>4.530663e-05</td>\n",
       "      <td>-2.168588e-07</td>\n",
       "      <td>2.860706e-10</td>\n",
       "      <td>0.018656</td>\n",
       "      <td>-0.004578</td>\n",
       "      <td>3.141089e-04</td>\n",
       "      <td>7.316569e-03</td>\n",
       "      <td>-7.397159e-04</td>\n",
       "      <td>2.032756e-05</td>\n",
       "      <td>1.364388e-04</td>\n",
       "    </tr>\n",
       "    <tr>\n",
       "      <th>w11</th>\n",
       "      <td>-0.763611</td>\n",
       "      <td>3.703607e-02</td>\n",
       "      <td>-2.382100e-04</td>\n",
       "      <td>4.021344e-07</td>\n",
       "      <td>-0.308575</td>\n",
       "      <td>0.104564</td>\n",
       "      <td>-1.005172e-02</td>\n",
       "      <td>2.241183e-02</td>\n",
       "      <td>-4.312444e-03</td>\n",
       "      <td>1.364388e-04</td>\n",
       "      <td>3.072829e-02</td>\n",
       "    </tr>\n",
       "  </tbody>\n",
       "</table>\n",
       "</div>"
      ],
      "text/plain": [
       "             w1            w2            w3            w4          w5  \\\n",
       "w1   236.109538 -5.485450e-01  4.027054e-03 -7.402715e-06 -165.792160   \n",
       "w2    -0.548545  4.881067e-02 -3.133749e-04  5.310296e-07   -0.777367   \n",
       "w3     0.004027 -3.133749e-04  2.031727e-06 -3.466910e-09    0.004019   \n",
       "w4    -0.000007  5.310296e-07 -3.466910e-09  5.947878e-12   -0.000006   \n",
       "w5  -165.792160 -7.773673e-01  4.018530e-03 -5.737463e-06  175.154054   \n",
       "w6    44.180013  2.387562e-01 -1.241690e-03  1.784624e-06  -48.945022   \n",
       "w7    -3.453158 -2.110035e-02  1.111032e-04 -1.616036e-07    3.958181   \n",
       "w8   -14.913827 -2.646053e-02  2.336212e-04 -4.748538e-07    6.613625   \n",
       "w9     1.354425 -6.466180e-04 -1.059650e-07  5.132055e-09   -0.592521   \n",
       "w10   -0.038052  4.530663e-05 -2.168588e-07  2.860706e-10    0.018656   \n",
       "w11   -0.763611  3.703607e-02 -2.382100e-04  4.021344e-07   -0.308575   \n",
       "\n",
       "            w6            w7            w8            w9           w10  \\\n",
       "w1   44.180013 -3.453158e+00 -1.491383e+01  1.354425e+00 -3.805173e-02   \n",
       "w2    0.238756 -2.110035e-02 -2.646053e-02 -6.466180e-04  4.530663e-05   \n",
       "w3   -0.001242  1.111032e-04  2.336212e-04 -1.059650e-07 -2.168588e-07   \n",
       "w4    0.000002 -1.616036e-07 -4.748538e-07  5.132055e-09  2.860706e-10   \n",
       "w5  -48.945022  3.958181e+00  6.613625e+00 -5.925210e-01  1.865633e-02   \n",
       "w6   13.819498 -1.125618e+00 -1.601699e+00  1.413055e-01 -4.578230e-03   \n",
       "w7   -1.125618  9.221039e-02  1.121504e-01 -9.437315e-03  3.141089e-04   \n",
       "w8   -1.601699  1.121504e-01  2.975163e+00 -2.773375e-01  7.316569e-03   \n",
       "w9    0.141305 -9.437315e-03 -2.773375e-01  2.733565e-02 -7.397159e-04   \n",
       "w10  -0.004578  3.141089e-04  7.316569e-03 -7.397159e-04  2.032756e-05   \n",
       "w11   0.104564 -1.005172e-02  2.241183e-02 -4.312444e-03  1.364388e-04   \n",
       "\n",
       "              w11  \n",
       "w1  -7.636113e-01  \n",
       "w2   3.703607e-02  \n",
       "w3  -2.382100e-04  \n",
       "w4   4.021344e-07  \n",
       "w5  -3.085747e-01  \n",
       "w6   1.045638e-01  \n",
       "w7  -1.005172e-02  \n",
       "w8   2.241183e-02  \n",
       "w9  -4.312444e-03  \n",
       "w10  1.364388e-04  \n",
       "w11  3.072829e-02  "
      ]
     },
     "execution_count": 13,
     "metadata": {},
     "output_type": "execute_result"
    }
   ],
   "source": [
    "table_cov"
   ]
  },
  {
   "cell_type": "code",
   "execution_count": 14,
   "metadata": {},
   "outputs": [
    {
     "name": "stdout",
     "output_type": "stream",
     "text": [
      "9148.912877469123\n",
      "148.2715226684957\n"
     ]
    }
   ],
   "source": [
    "print(np.mean(errs))\n",
    "print(np.std(errs))"
   ]
  },
  {
   "cell_type": "markdown",
   "metadata": {},
   "source": [
    "Заметим, что мы не стали выводить дисперсию отдельно, ведь диагональ матрицы ковариаций как раз и является дисперсией."
   ]
  }
 ],
 "metadata": {
  "kernelspec": {
   "display_name": "Python 3",
   "language": "python",
   "name": "python3"
  },
  "language_info": {
   "codemirror_mode": {
    "name": "ipython",
    "version": 3
   },
   "file_extension": ".py",
   "mimetype": "text/x-python",
   "name": "python",
   "nbconvert_exporter": "python",
   "pygments_lexer": "ipython3",
   "version": "3.7.3"
  }
 },
 "nbformat": 4,
 "nbformat_minor": 2
}
